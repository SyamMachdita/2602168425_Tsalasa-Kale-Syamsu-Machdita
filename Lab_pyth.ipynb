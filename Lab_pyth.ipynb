{
  "nbformat": 4,
  "nbformat_minor": 0,
  "metadata": {
    "colab": {
      "provenance": [],
      "authorship_tag": "ABX9TyNDQPWVgA9mlktuWlBA2dD1",
      "include_colab_link": true
    },
    "kernelspec": {
      "name": "python3",
      "display_name": "Python 3"
    },
    "language_info": {
      "name": "python"
    }
  },
  "cells": [
    {
      "cell_type": "markdown",
      "metadata": {
        "id": "view-in-github",
        "colab_type": "text"
      },
      "source": [
        "<a href=\"https://colab.research.google.com/github/SyamMachdita/2602168425_Tsalasa-Kale-Syamsu-Machdita/blob/main/Lab_pyth.ipynb\" target=\"_parent\"><img src=\"https://colab.research.google.com/assets/colab-badge.svg\" alt=\"Open In Colab\"/></a>"
      ]
    },
    {
      "cell_type": "code",
      "execution_count": null,
      "metadata": {
        "id": "BW__FulVADoG"
      },
      "outputs": [],
      "source": [
        "def my_thermo_stat(temp, desired_temp):\n",
        "  if temp < desired_temp - 5:\n",
        "    status = 'heat'\n",
        "  elif temp > desired_temp + 5:\n",
        "    status = 'ac'\n",
        "  else:\n",
        "    status = 'off'\n",
        "\n",
        "  return status"
      ]
    },
    {
      "cell_type": "code",
      "source": [
        "status = my_thermo_stat(65,75)\n",
        "print(status)"
      ],
      "metadata": {
        "colab": {
          "base_uri": "https://localhost:8080/"
        },
        "id": "JLxZqY3UDGEd",
        "outputId": "8c5e9f93-3bbf-49b1-faf7-ed264bbc5dda"
      },
      "execution_count": null,
      "outputs": [
        {
          "output_type": "stream",
          "name": "stdout",
          "text": [
            "heat\n"
          ]
        }
      ]
    },
    {
      "cell_type": "code",
      "source": [
        "status = my_thermo_stat(75,65)\n",
        "print(status)"
      ],
      "metadata": {
        "colab": {
          "base_uri": "https://localhost:8080/"
        },
        "id": "tZQqas1CGJIj",
        "outputId": "057a05a0-cd30-4b98-aff3-3e4bf7afaa3f"
      },
      "execution_count": null,
      "outputs": [
        {
          "output_type": "stream",
          "name": "stdout",
          "text": [
            "ac\n"
          ]
        }
      ]
    },
    {
      "cell_type": "code",
      "source": [
        "status = my_thermo_stat(65,63)\n",
        "print(status)"
      ],
      "metadata": {
        "colab": {
          "base_uri": "https://localhost:8080/"
        },
        "id": "kZ0NvEVFGOwz",
        "outputId": "65fab9cf-1b59-4cbc-c89d-ab09699a4f8c"
      },
      "execution_count": null,
      "outputs": [
        {
          "output_type": "stream",
          "name": "stdout",
          "text": [
            "off\n"
          ]
        }
      ]
    },
    {
      "cell_type": "code",
      "source": [
        "x = 3\n",
        "if x < 1 and x < 2:\n",
        "  y = 2\n",
        "elif x < 2 and x < 4:\n",
        "  y = 4\n",
        "else:\n",
        "  y = 0\n",
        "\n",
        "  print(y)"
      ],
      "metadata": {
        "id": "B5cTQZWfGVZ9"
      },
      "execution_count": null,
      "outputs": []
    },
    {
      "cell_type": "code",
      "source": [
        "def my_adder(a, b, c):\n",
        "  out = a + b + c\n",
        "  return out"
      ],
      "metadata": {
        "id": "pbwmZsgvHgjz"
      },
      "execution_count": null,
      "outputs": []
    },
    {
      "cell_type": "code",
      "source": [
        "my_adder(1,2,3)\n"
      ],
      "metadata": {
        "id": "pqzh57wgHs2G"
      },
      "execution_count": null,
      "outputs": []
    },
    {
      "cell_type": "code",
      "source": [
        "import numpy as np\n",
        "a = [[8, 3, -3], [-2, -8, 5], [3, 5, 10]]\n",
        "\n",
        "#Find diagomal coefficients\n",
        "diag = np.diag(np.abs(a))\n",
        "\n",
        "#Find row sum without diagonal\n",
        "off_diag = np.sum(np.abs(a), axis=1) -diag\n",
        "\n",
        "if np.all(diag > off_diag) :\n",
        "  print('matrix is diagonally dominant')\n",
        "else:\n",
        "  print('Not diagonally dominant')"
      ],
      "metadata": {
        "id": "CyJvZP6VHgzV",
        "colab": {
          "base_uri": "https://localhost:8080/"
        },
        "outputId": "8c74e235-dfb5-4420-edfa-ffcc82ec5397"
      },
      "execution_count": null,
      "outputs": [
        {
          "output_type": "stream",
          "name": "stdout",
          "text": [
            "matrix is diagonally dominant\n"
          ]
        }
      ]
    },
    {
      "cell_type": "code",
      "source": [
        "x1 = 0\n",
        "x2 = 0\n",
        "x3 = 0\n",
        "epsilon = 0.01\n",
        "converged = False\n",
        "\n",
        "x_old = np.array([x1,x2,x3])"
      ],
      "metadata": {
        "id": "S8X24u3NCZ8V"
      },
      "execution_count": null,
      "outputs": []
    },
    {
      "cell_type": "code",
      "source": [
        "print('Iteration results')\n",
        "print(' k, x1, x2, x3')\n",
        "for k in range(1, 50):\n",
        "  x1 = (14-3*x2+3*x3)/8\n",
        "  x2 = (5+2*x1-5*x3)/(-8)\n",
        "  x3 = (-9-3*x1-5*x2)/(10)\n",
        "  x = np.array([x1, x2, x3])\n",
        "  # check if it smaller than thereshold\n",
        "  dx = np.sqrt(np.dot(x-x_old, x-x_old))\n",
        "\n",
        "  print(\"%d, %.4f, %.4f, %.4f\"%(k, x1, x2, x3))\n",
        "  if dx < epsilon:\n",
        "    converged = True\n",
        "    print('Converged!')\n",
        "    break\n",
        "\n",
        "  #assign the latest x value to the old value\n",
        "  x_old = x\n",
        "\n",
        "if not converged:\n",
        "  print('Not converge, increase the # of iterations')"
      ],
      "metadata": {
        "colab": {
          "base_uri": "https://localhost:8080/"
        },
        "id": "M2ebX4uhId8_",
        "outputId": "dae816f4-6f39-47c8-83da-afe9ef320643"
      },
      "execution_count": null,
      "outputs": [
        {
          "output_type": "stream",
          "name": "stdout",
          "text": [
            "Iteration results\n",
            " k, x1, x2, x3\n",
            "1, 2.0772, -1.5972, -0.7246\n",
            "Converged!\n"
          ]
        }
      ]
    }
  ]
}