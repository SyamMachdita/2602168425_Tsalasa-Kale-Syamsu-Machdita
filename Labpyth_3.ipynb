{
  "nbformat": 4,
  "nbformat_minor": 0,
  "metadata": {
    "colab": {
      "provenance": [],
      "authorship_tag": "ABX9TyMBC22p6X36QkzQH953E+ek",
      "include_colab_link": true
    },
    "kernelspec": {
      "name": "python3",
      "display_name": "Python 3"
    },
    "language_info": {
      "name": "python"
    }
  },
  "cells": [
    {
      "cell_type": "markdown",
      "metadata": {
        "id": "view-in-github",
        "colab_type": "text"
      },
      "source": [
        "<a href=\"https://colab.research.google.com/github/SyamMachdita/2602168425_Tsalasa-Kale-Syamsu-Machdita/blob/main/Labpyth_3.ipynb\" target=\"_parent\"><img src=\"https://colab.research.google.com/assets/colab-badge.svg\" alt=\"Open In Colab\"/></a>"
      ]
    },
    {
      "cell_type": "code",
      "execution_count": 1,
      "metadata": {
        "id": "nyVG05-ECuIU",
        "colab": {
          "base_uri": "https://localhost:8080/"
        },
        "outputId": "fcb70871-3a02-4ac1-da5d-9df520c7a534"
      },
      "outputs": [
        {
          "output_type": "stream",
          "name": "stdout",
          "text": [
            "Eigenvalue : 3.999949137887188\n",
            "Eigenvector : [0.50000636 1.        ]\n"
          ]
        }
      ],
      "source": [
        "import numpy as np\n",
        "def normalize(x):\n",
        "  fac = abs(x).max()\n",
        "  x_n = x / x.max()\n",
        "  return fac, x_n\n",
        "x = np.array ([1, 1])\n",
        "a = np.array ([[0, 2], [2, 3]]) \n",
        "\n",
        "for i in range(8):\n",
        "  x = np.dot(a, x)\n",
        "  lambda_1, x = normalize (x)\n",
        "\n",
        "print('Eigenvalue :', lambda_1)\n",
        "print('Eigenvector :', x)"
      ]
    },
    {
      "cell_type": "code",
      "source": [
        "from numpy.linalg import inv\n",
        "a_inv = inv(a)\n",
        "\n",
        "for i in range(8):\n",
        "  x = np.dot(a_inv, x)\n",
        "  lambda_1, x = normalize(x)\n",
        "\n",
        "print('Eigenvalue :', lambda_1)\n",
        "print('Eigenvector :', x)"
      ],
      "metadata": {
        "colab": {
          "base_uri": "https://localhost:8080/"
        },
        "id": "4ETBRgzoEZG5",
        "outputId": "d988f2ae-1e61-4850-d99d-d42af6dab0ff"
      },
      "execution_count": 2,
      "outputs": [
        {
          "output_type": "stream",
          "name": "stdout",
          "text": [
            "Eigenvalue : 0.20000000000024853\n",
            "Eigenvector : [1. 1.]\n"
          ]
        }
      ]
    },
    {
      "cell_type": "code",
      "source": [
        "import numpy as np\n",
        "from numpy.linalg import eig\n",
        "a = np.array ([[0, 2], [2,3]])\n",
        "\n",
        "w, v=eig (a)\n",
        "print('E-value :', w)\n",
        "print('E-vector :', v)"
      ],
      "metadata": {
        "colab": {
          "base_uri": "https://localhost:8080/"
        },
        "id": "1fz2kYp8E2BH",
        "outputId": "ea42eeae-ccf4-440a-fd88-a638478afde4"
      },
      "execution_count": 6,
      "outputs": [
        {
          "output_type": "stream",
          "name": "stdout",
          "text": [
            "E-value : [-1.  4.]\n",
            "E-vector : [[-0.89442719 -0.4472136 ]\n",
            " [ 0.4472136  -0.89442719]]\n"
          ]
        }
      ]
    },
    {
      "cell_type": "code",
      "source": [
        "import numpy as np\n",
        "from numpy.linalg import eig\n",
        "a = np.array([[2, 2, 4], [1, 2, 5], [2, 3, 4]])\n",
        "\n",
        "w,v=eig(a)\n",
        "print('E-value :', w)\n",
        "print('E-Vector :', v)"
      ],
      "metadata": {
        "colab": {
          "base_uri": "https://localhost:8080/"
        },
        "id": "_BC-VsceFc2X",
        "outputId": "f5aee7d8-d582-4a08-a0cb-dbc497f0dd38"
      },
      "execution_count": 7,
      "outputs": [
        {
          "output_type": "stream",
          "name": "stdout",
          "text": [
            "E-value : [ 8.50494484  0.62457619 -1.12952104]\n",
            "E-Vector : [[-0.55208168 -0.84225115 -0.17684276]\n",
            " [-0.55982106  0.53870446 -0.81800071]\n",
            " [-0.61790469  0.02026084  0.54735864]]\n"
          ]
        }
      ]
    }
  ]
}